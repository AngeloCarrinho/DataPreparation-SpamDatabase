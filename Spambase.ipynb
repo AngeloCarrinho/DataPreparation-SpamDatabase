{
 "cells": [
  {
   "cell_type": "code",
   "execution_count": 1,
   "id": "1527fa80-aa4a-4f80-bf1f-8cd8a57d8714",
   "metadata": {},
   "outputs": [],
   "source": [
    "import pandas as pd\n",
    "import numpy as np\n",
    "import seaborn as sns\n",
    "import matplotlib.pyplot as plt\n",
    "import sklearn.preprocessing as preproc\n",
    "from sklearn.decomposition import PCA\n",
    "from sklearn.preprocessing import StandardScaler"
   ]
  },
  {
   "cell_type": "code",
   "execution_count": 2,
   "id": "d39b3a97-236b-4fb6-844e-3d57649ee9ef",
   "metadata": {},
   "outputs": [],
   "source": [
    "spambase_url = \"https://raw.githubusercontent.com/AngeloCarrinho/DataPreparation-SpamDatabase/refs/heads/main/spambase.csv\""
   ]
  },
  {
   "cell_type": "code",
   "execution_count": 3,
   "id": "5352dd72-e639-4974-922f-957355721018",
   "metadata": {},
   "outputs": [],
   "source": [
    "spambase_df = pd.read_csv(spambase_url)"
   ]
  },
  {
   "cell_type": "code",
   "execution_count": 4,
   "id": "4f72807b-5344-4bdd-a637-476d9f8b4704",
   "metadata": {},
   "outputs": [
    {
     "data": {
      "text/html": [
       "<div>\n",
       "<style scoped>\n",
       "    .dataframe tbody tr th:only-of-type {\n",
       "        vertical-align: middle;\n",
       "    }\n",
       "\n",
       "    .dataframe tbody tr th {\n",
       "        vertical-align: top;\n",
       "    }\n",
       "\n",
       "    .dataframe thead th {\n",
       "        text-align: right;\n",
       "    }\n",
       "</style>\n",
       "<table border=\"1\" class=\"dataframe\">\n",
       "  <thead>\n",
       "    <tr style=\"text-align: right;\">\n",
       "      <th></th>\n",
       "      <th>Unnamed: 0</th>\n",
       "      <th>word_freq_make</th>\n",
       "      <th>word_freq_address</th>\n",
       "      <th>word_freq_all</th>\n",
       "      <th>word_freq_3d</th>\n",
       "      <th>word_freq_our</th>\n",
       "      <th>word_freq_over</th>\n",
       "      <th>word_freq_remove</th>\n",
       "      <th>word_freq_internet</th>\n",
       "      <th>word_freq_order</th>\n",
       "      <th>...</th>\n",
       "      <th>char_freq_;</th>\n",
       "      <th>char_freq_(</th>\n",
       "      <th>char_freq_[</th>\n",
       "      <th>char_freq_!</th>\n",
       "      <th>char_freq_$</th>\n",
       "      <th>char_freq_#</th>\n",
       "      <th>capital_run_length_average</th>\n",
       "      <th>capital_run_length_longest</th>\n",
       "      <th>capital_run_length_total</th>\n",
       "      <th>is_spam</th>\n",
       "    </tr>\n",
       "  </thead>\n",
       "  <tbody>\n",
       "    <tr>\n",
       "      <th>0</th>\n",
       "      <td>0</td>\n",
       "      <td>0.00</td>\n",
       "      <td>0.64</td>\n",
       "      <td>0.64</td>\n",
       "      <td>0.0</td>\n",
       "      <td>0.32</td>\n",
       "      <td>0.00</td>\n",
       "      <td>0.00</td>\n",
       "      <td>0.00</td>\n",
       "      <td>0.00</td>\n",
       "      <td>...</td>\n",
       "      <td>0.00</td>\n",
       "      <td>0.000</td>\n",
       "      <td>0.0</td>\n",
       "      <td>0.778</td>\n",
       "      <td>0.000</td>\n",
       "      <td>0.000</td>\n",
       "      <td>3.756</td>\n",
       "      <td>61</td>\n",
       "      <td>278</td>\n",
       "      <td>True</td>\n",
       "    </tr>\n",
       "    <tr>\n",
       "      <th>1</th>\n",
       "      <td>1</td>\n",
       "      <td>0.21</td>\n",
       "      <td>0.28</td>\n",
       "      <td>0.50</td>\n",
       "      <td>0.0</td>\n",
       "      <td>0.14</td>\n",
       "      <td>0.28</td>\n",
       "      <td>0.21</td>\n",
       "      <td>0.07</td>\n",
       "      <td>0.00</td>\n",
       "      <td>...</td>\n",
       "      <td>0.00</td>\n",
       "      <td>0.132</td>\n",
       "      <td>0.0</td>\n",
       "      <td>0.372</td>\n",
       "      <td>0.180</td>\n",
       "      <td>0.048</td>\n",
       "      <td>5.114</td>\n",
       "      <td>101</td>\n",
       "      <td>1028</td>\n",
       "      <td>True</td>\n",
       "    </tr>\n",
       "    <tr>\n",
       "      <th>2</th>\n",
       "      <td>2</td>\n",
       "      <td>0.06</td>\n",
       "      <td>0.00</td>\n",
       "      <td>0.71</td>\n",
       "      <td>0.0</td>\n",
       "      <td>1.23</td>\n",
       "      <td>0.19</td>\n",
       "      <td>0.19</td>\n",
       "      <td>0.12</td>\n",
       "      <td>0.64</td>\n",
       "      <td>...</td>\n",
       "      <td>0.01</td>\n",
       "      <td>0.143</td>\n",
       "      <td>0.0</td>\n",
       "      <td>0.276</td>\n",
       "      <td>0.184</td>\n",
       "      <td>0.010</td>\n",
       "      <td>9.821</td>\n",
       "      <td>485</td>\n",
       "      <td>2259</td>\n",
       "      <td>True</td>\n",
       "    </tr>\n",
       "    <tr>\n",
       "      <th>3</th>\n",
       "      <td>3</td>\n",
       "      <td>0.00</td>\n",
       "      <td>0.00</td>\n",
       "      <td>0.00</td>\n",
       "      <td>0.0</td>\n",
       "      <td>0.63</td>\n",
       "      <td>0.00</td>\n",
       "      <td>0.31</td>\n",
       "      <td>0.63</td>\n",
       "      <td>0.31</td>\n",
       "      <td>...</td>\n",
       "      <td>0.00</td>\n",
       "      <td>0.137</td>\n",
       "      <td>0.0</td>\n",
       "      <td>0.137</td>\n",
       "      <td>0.000</td>\n",
       "      <td>0.000</td>\n",
       "      <td>3.537</td>\n",
       "      <td>40</td>\n",
       "      <td>191</td>\n",
       "      <td>True</td>\n",
       "    </tr>\n",
       "    <tr>\n",
       "      <th>4</th>\n",
       "      <td>4</td>\n",
       "      <td>0.00</td>\n",
       "      <td>0.00</td>\n",
       "      <td>0.00</td>\n",
       "      <td>0.0</td>\n",
       "      <td>0.63</td>\n",
       "      <td>0.00</td>\n",
       "      <td>0.31</td>\n",
       "      <td>0.63</td>\n",
       "      <td>0.31</td>\n",
       "      <td>...</td>\n",
       "      <td>0.00</td>\n",
       "      <td>0.135</td>\n",
       "      <td>0.0</td>\n",
       "      <td>0.135</td>\n",
       "      <td>0.000</td>\n",
       "      <td>0.000</td>\n",
       "      <td>3.537</td>\n",
       "      <td>40</td>\n",
       "      <td>191</td>\n",
       "      <td>True</td>\n",
       "    </tr>\n",
       "  </tbody>\n",
       "</table>\n",
       "<p>5 rows × 59 columns</p>\n",
       "</div>"
      ],
      "text/plain": [
       "   Unnamed: 0  word_freq_make  word_freq_address  word_freq_all  word_freq_3d  \\\n",
       "0           0            0.00               0.64           0.64           0.0   \n",
       "1           1            0.21               0.28           0.50           0.0   \n",
       "2           2            0.06               0.00           0.71           0.0   \n",
       "3           3            0.00               0.00           0.00           0.0   \n",
       "4           4            0.00               0.00           0.00           0.0   \n",
       "\n",
       "  word_freq_our  word_freq_over  word_freq_remove  word_freq_internet  \\\n",
       "0          0.32            0.00              0.00                0.00   \n",
       "1          0.14            0.28              0.21                0.07   \n",
       "2          1.23            0.19              0.19                0.12   \n",
       "3          0.63            0.00              0.31                0.63   \n",
       "4          0.63            0.00              0.31                0.63   \n",
       "\n",
       "   word_freq_order  ...  char_freq_;  char_freq_(  char_freq_[  char_freq_!  \\\n",
       "0             0.00  ...         0.00        0.000          0.0        0.778   \n",
       "1             0.00  ...         0.00        0.132          0.0        0.372   \n",
       "2             0.64  ...         0.01        0.143          0.0        0.276   \n",
       "3             0.31  ...         0.00        0.137          0.0        0.137   \n",
       "4             0.31  ...         0.00        0.135          0.0        0.135   \n",
       "\n",
       "   char_freq_$  char_freq_#  capital_run_length_average  \\\n",
       "0        0.000        0.000                       3.756   \n",
       "1        0.180        0.048                       5.114   \n",
       "2        0.184        0.010                       9.821   \n",
       "3        0.000        0.000                       3.537   \n",
       "4        0.000        0.000                       3.537   \n",
       "\n",
       "   capital_run_length_longest  capital_run_length_total  is_spam  \n",
       "0                          61                       278     True  \n",
       "1                         101                      1028     True  \n",
       "2                         485                      2259     True  \n",
       "3                          40                       191     True  \n",
       "4                          40                       191     True  \n",
       "\n",
       "[5 rows x 59 columns]"
      ]
     },
     "execution_count": 4,
     "metadata": {},
     "output_type": "execute_result"
    }
   ],
   "source": [
    "spambase_df.head()"
   ]
  },
  {
   "cell_type": "code",
   "execution_count": 5,
   "id": "9524cda6-d738-4014-aa33-b34e623f14df",
   "metadata": {},
   "outputs": [
    {
     "data": {
      "text/html": [
       "<div>\n",
       "<style scoped>\n",
       "    .dataframe tbody tr th:only-of-type {\n",
       "        vertical-align: middle;\n",
       "    }\n",
       "\n",
       "    .dataframe tbody tr th {\n",
       "        vertical-align: top;\n",
       "    }\n",
       "\n",
       "    .dataframe thead th {\n",
       "        text-align: right;\n",
       "    }\n",
       "</style>\n",
       "<table border=\"1\" class=\"dataframe\">\n",
       "  <thead>\n",
       "    <tr style=\"text-align: right;\">\n",
       "      <th></th>\n",
       "      <th>Unnamed: 0</th>\n",
       "      <th>word_freq_make</th>\n",
       "      <th>word_freq_address</th>\n",
       "      <th>word_freq_all</th>\n",
       "      <th>word_freq_3d</th>\n",
       "      <th>word_freq_over</th>\n",
       "      <th>word_freq_remove</th>\n",
       "      <th>word_freq_internet</th>\n",
       "      <th>word_freq_order</th>\n",
       "      <th>word_freq_mail</th>\n",
       "      <th>...</th>\n",
       "      <th>word_freq_conference</th>\n",
       "      <th>char_freq_;</th>\n",
       "      <th>char_freq_(</th>\n",
       "      <th>char_freq_[</th>\n",
       "      <th>char_freq_!</th>\n",
       "      <th>char_freq_$</th>\n",
       "      <th>char_freq_#</th>\n",
       "      <th>capital_run_length_average</th>\n",
       "      <th>capital_run_length_longest</th>\n",
       "      <th>capital_run_length_total</th>\n",
       "    </tr>\n",
       "  </thead>\n",
       "  <tbody>\n",
       "    <tr>\n",
       "      <th>count</th>\n",
       "      <td>4601.000000</td>\n",
       "      <td>4601.000000</td>\n",
       "      <td>4601.000000</td>\n",
       "      <td>4595.000000</td>\n",
       "      <td>4599.000000</td>\n",
       "      <td>4600.000000</td>\n",
       "      <td>4601.000000</td>\n",
       "      <td>4586.000000</td>\n",
       "      <td>4601.000000</td>\n",
       "      <td>4601.000000</td>\n",
       "      <td>...</td>\n",
       "      <td>4601.000000</td>\n",
       "      <td>4601.000000</td>\n",
       "      <td>4601.000000</td>\n",
       "      <td>4601.000000</td>\n",
       "      <td>4601.000000</td>\n",
       "      <td>4601.000000</td>\n",
       "      <td>4601.000000</td>\n",
       "      <td>4601.000000</td>\n",
       "      <td>4601.000000</td>\n",
       "      <td>4601.000000</td>\n",
       "    </tr>\n",
       "    <tr>\n",
       "      <th>mean</th>\n",
       "      <td>2300.000000</td>\n",
       "      <td>0.104553</td>\n",
       "      <td>0.213015</td>\n",
       "      <td>0.281023</td>\n",
       "      <td>0.065453</td>\n",
       "      <td>0.095922</td>\n",
       "      <td>0.114208</td>\n",
       "      <td>0.105639</td>\n",
       "      <td>0.090067</td>\n",
       "      <td>0.239413</td>\n",
       "      <td>...</td>\n",
       "      <td>0.031869</td>\n",
       "      <td>0.038575</td>\n",
       "      <td>0.139030</td>\n",
       "      <td>0.016976</td>\n",
       "      <td>0.269071</td>\n",
       "      <td>0.075811</td>\n",
       "      <td>0.044238</td>\n",
       "      <td>5.191515</td>\n",
       "      <td>52.172789</td>\n",
       "      <td>283.289285</td>\n",
       "    </tr>\n",
       "    <tr>\n",
       "      <th>std</th>\n",
       "      <td>1328.338624</td>\n",
       "      <td>0.305358</td>\n",
       "      <td>1.290575</td>\n",
       "      <td>0.504370</td>\n",
       "      <td>1.395454</td>\n",
       "      <td>0.273850</td>\n",
       "      <td>0.391441</td>\n",
       "      <td>0.401682</td>\n",
       "      <td>0.278616</td>\n",
       "      <td>0.644755</td>\n",
       "      <td>...</td>\n",
       "      <td>0.285735</td>\n",
       "      <td>0.243471</td>\n",
       "      <td>0.270355</td>\n",
       "      <td>0.109394</td>\n",
       "      <td>0.815672</td>\n",
       "      <td>0.245882</td>\n",
       "      <td>0.429342</td>\n",
       "      <td>31.729449</td>\n",
       "      <td>194.891310</td>\n",
       "      <td>606.347851</td>\n",
       "    </tr>\n",
       "    <tr>\n",
       "      <th>min</th>\n",
       "      <td>0.000000</td>\n",
       "      <td>0.000000</td>\n",
       "      <td>0.000000</td>\n",
       "      <td>0.000000</td>\n",
       "      <td>0.000000</td>\n",
       "      <td>0.000000</td>\n",
       "      <td>0.000000</td>\n",
       "      <td>0.000000</td>\n",
       "      <td>0.000000</td>\n",
       "      <td>0.000000</td>\n",
       "      <td>...</td>\n",
       "      <td>0.000000</td>\n",
       "      <td>0.000000</td>\n",
       "      <td>0.000000</td>\n",
       "      <td>0.000000</td>\n",
       "      <td>0.000000</td>\n",
       "      <td>0.000000</td>\n",
       "      <td>0.000000</td>\n",
       "      <td>1.000000</td>\n",
       "      <td>1.000000</td>\n",
       "      <td>1.000000</td>\n",
       "    </tr>\n",
       "    <tr>\n",
       "      <th>25%</th>\n",
       "      <td>1150.000000</td>\n",
       "      <td>0.000000</td>\n",
       "      <td>0.000000</td>\n",
       "      <td>0.000000</td>\n",
       "      <td>0.000000</td>\n",
       "      <td>0.000000</td>\n",
       "      <td>0.000000</td>\n",
       "      <td>0.000000</td>\n",
       "      <td>0.000000</td>\n",
       "      <td>0.000000</td>\n",
       "      <td>...</td>\n",
       "      <td>0.000000</td>\n",
       "      <td>0.000000</td>\n",
       "      <td>0.000000</td>\n",
       "      <td>0.000000</td>\n",
       "      <td>0.000000</td>\n",
       "      <td>0.000000</td>\n",
       "      <td>0.000000</td>\n",
       "      <td>1.588000</td>\n",
       "      <td>6.000000</td>\n",
       "      <td>35.000000</td>\n",
       "    </tr>\n",
       "    <tr>\n",
       "      <th>50%</th>\n",
       "      <td>2300.000000</td>\n",
       "      <td>0.000000</td>\n",
       "      <td>0.000000</td>\n",
       "      <td>0.000000</td>\n",
       "      <td>0.000000</td>\n",
       "      <td>0.000000</td>\n",
       "      <td>0.000000</td>\n",
       "      <td>0.000000</td>\n",
       "      <td>0.000000</td>\n",
       "      <td>0.000000</td>\n",
       "      <td>...</td>\n",
       "      <td>0.000000</td>\n",
       "      <td>0.000000</td>\n",
       "      <td>0.065000</td>\n",
       "      <td>0.000000</td>\n",
       "      <td>0.000000</td>\n",
       "      <td>0.000000</td>\n",
       "      <td>0.000000</td>\n",
       "      <td>2.276000</td>\n",
       "      <td>15.000000</td>\n",
       "      <td>95.000000</td>\n",
       "    </tr>\n",
       "    <tr>\n",
       "      <th>75%</th>\n",
       "      <td>3450.000000</td>\n",
       "      <td>0.000000</td>\n",
       "      <td>0.000000</td>\n",
       "      <td>0.420000</td>\n",
       "      <td>0.000000</td>\n",
       "      <td>0.000000</td>\n",
       "      <td>0.000000</td>\n",
       "      <td>0.000000</td>\n",
       "      <td>0.000000</td>\n",
       "      <td>0.160000</td>\n",
       "      <td>...</td>\n",
       "      <td>0.000000</td>\n",
       "      <td>0.000000</td>\n",
       "      <td>0.188000</td>\n",
       "      <td>0.000000</td>\n",
       "      <td>0.315000</td>\n",
       "      <td>0.052000</td>\n",
       "      <td>0.000000</td>\n",
       "      <td>3.706000</td>\n",
       "      <td>43.000000</td>\n",
       "      <td>266.000000</td>\n",
       "    </tr>\n",
       "    <tr>\n",
       "      <th>max</th>\n",
       "      <td>4600.000000</td>\n",
       "      <td>4.540000</td>\n",
       "      <td>14.280000</td>\n",
       "      <td>5.100000</td>\n",
       "      <td>42.810000</td>\n",
       "      <td>5.880000</td>\n",
       "      <td>7.270000</td>\n",
       "      <td>11.110000</td>\n",
       "      <td>5.260000</td>\n",
       "      <td>18.180000</td>\n",
       "      <td>...</td>\n",
       "      <td>10.000000</td>\n",
       "      <td>4.385000</td>\n",
       "      <td>9.752000</td>\n",
       "      <td>4.081000</td>\n",
       "      <td>32.478000</td>\n",
       "      <td>6.003000</td>\n",
       "      <td>19.829000</td>\n",
       "      <td>1102.500000</td>\n",
       "      <td>9989.000000</td>\n",
       "      <td>15841.000000</td>\n",
       "    </tr>\n",
       "  </tbody>\n",
       "</table>\n",
       "<p>8 rows × 54 columns</p>\n",
       "</div>"
      ],
      "text/plain": [
       "        Unnamed: 0  word_freq_make  word_freq_address  word_freq_all  \\\n",
       "count  4601.000000     4601.000000        4601.000000    4595.000000   \n",
       "mean   2300.000000        0.104553           0.213015       0.281023   \n",
       "std    1328.338624        0.305358           1.290575       0.504370   \n",
       "min       0.000000        0.000000           0.000000       0.000000   \n",
       "25%    1150.000000        0.000000           0.000000       0.000000   \n",
       "50%    2300.000000        0.000000           0.000000       0.000000   \n",
       "75%    3450.000000        0.000000           0.000000       0.420000   \n",
       "max    4600.000000        4.540000          14.280000       5.100000   \n",
       "\n",
       "       word_freq_3d  word_freq_over  word_freq_remove  word_freq_internet  \\\n",
       "count   4599.000000     4600.000000       4601.000000         4586.000000   \n",
       "mean       0.065453        0.095922          0.114208            0.105639   \n",
       "std        1.395454        0.273850          0.391441            0.401682   \n",
       "min        0.000000        0.000000          0.000000            0.000000   \n",
       "25%        0.000000        0.000000          0.000000            0.000000   \n",
       "50%        0.000000        0.000000          0.000000            0.000000   \n",
       "75%        0.000000        0.000000          0.000000            0.000000   \n",
       "max       42.810000        5.880000          7.270000           11.110000   \n",
       "\n",
       "       word_freq_order  word_freq_mail  ...  word_freq_conference  \\\n",
       "count      4601.000000     4601.000000  ...           4601.000000   \n",
       "mean          0.090067        0.239413  ...              0.031869   \n",
       "std           0.278616        0.644755  ...              0.285735   \n",
       "min           0.000000        0.000000  ...              0.000000   \n",
       "25%           0.000000        0.000000  ...              0.000000   \n",
       "50%           0.000000        0.000000  ...              0.000000   \n",
       "75%           0.000000        0.160000  ...              0.000000   \n",
       "max           5.260000       18.180000  ...             10.000000   \n",
       "\n",
       "       char_freq_;  char_freq_(  char_freq_[  char_freq_!  char_freq_$  \\\n",
       "count  4601.000000  4601.000000  4601.000000  4601.000000  4601.000000   \n",
       "mean      0.038575     0.139030     0.016976     0.269071     0.075811   \n",
       "std       0.243471     0.270355     0.109394     0.815672     0.245882   \n",
       "min       0.000000     0.000000     0.000000     0.000000     0.000000   \n",
       "25%       0.000000     0.000000     0.000000     0.000000     0.000000   \n",
       "50%       0.000000     0.065000     0.000000     0.000000     0.000000   \n",
       "75%       0.000000     0.188000     0.000000     0.315000     0.052000   \n",
       "max       4.385000     9.752000     4.081000    32.478000     6.003000   \n",
       "\n",
       "       char_freq_#  capital_run_length_average  capital_run_length_longest  \\\n",
       "count  4601.000000                 4601.000000                 4601.000000   \n",
       "mean      0.044238                    5.191515                   52.172789   \n",
       "std       0.429342                   31.729449                  194.891310   \n",
       "min       0.000000                    1.000000                    1.000000   \n",
       "25%       0.000000                    1.588000                    6.000000   \n",
       "50%       0.000000                    2.276000                   15.000000   \n",
       "75%       0.000000                    3.706000                   43.000000   \n",
       "max      19.829000                 1102.500000                 9989.000000   \n",
       "\n",
       "       capital_run_length_total  \n",
       "count               4601.000000  \n",
       "mean                 283.289285  \n",
       "std                  606.347851  \n",
       "min                    1.000000  \n",
       "25%                   35.000000  \n",
       "50%                   95.000000  \n",
       "75%                  266.000000  \n",
       "max                15841.000000  \n",
       "\n",
       "[8 rows x 54 columns]"
      ]
     },
     "execution_count": 5,
     "metadata": {},
     "output_type": "execute_result"
    }
   ],
   "source": [
    "spambase_df.describe()"
   ]
  },
  {
   "cell_type": "code",
   "execution_count": 6,
   "id": "fa7b0bc1-54cf-44ae-baf2-7671f3a1813b",
   "metadata": {},
   "outputs": [
    {
     "name": "stdout",
     "output_type": "stream",
     "text": [
      "Unnamed: 0                      int64\n",
      "word_freq_make                float64\n",
      "word_freq_address             float64\n",
      "word_freq_all                 float64\n",
      "word_freq_3d                  float64\n",
      "word_freq_our                  object\n",
      "word_freq_over                float64\n",
      "word_freq_remove              float64\n",
      "word_freq_internet            float64\n",
      "word_freq_order               float64\n",
      "word_freq_mail                float64\n",
      "word_freq_receive             float64\n",
      "word_freq_will                float64\n",
      "word_freq_people              float64\n",
      "word_freq_report              float64\n",
      "word_freq_addresses           float64\n",
      "word_freq_free                float64\n",
      "word_freq_business            float64\n",
      "word_freq_email               float64\n",
      "word_freq_you                 float64\n",
      "word_freq_credit              float64\n",
      "word_freq_your                float64\n",
      "word_freq_font                float64\n",
      "word_freq_000                  object\n",
      "word_freq_money               float64\n",
      "word_freq_hp                  float64\n",
      "word_freq_hpl                  object\n",
      "word_freq_george              float64\n",
      "word_freq_650                 float64\n",
      "word_freq_lab                 float64\n",
      "word_freq_labs                 object\n",
      "word_freq_telnet              float64\n",
      "word_freq_857                 float64\n",
      "word_freq_data                float64\n",
      "word_freq_415                 float64\n",
      "word_freq_85                  float64\n",
      "word_freq_technology          float64\n",
      "word_freq_1999                float64\n",
      "word_freq_parts               float64\n",
      "word_freq_pm                  float64\n",
      "word_freq_direct              float64\n",
      "word_freq_cs                  float64\n",
      "word_freq_meeting             float64\n",
      "word_freq_original            float64\n",
      "word_freq_project             float64\n",
      "word_freq_re                  float64\n",
      "word_freq_edu                 float64\n",
      "word_freq_table               float64\n",
      "word_freq_conference          float64\n",
      "char_freq_;                   float64\n",
      "char_freq_(                   float64\n",
      "char_freq_[                   float64\n",
      "char_freq_!                   float64\n",
      "char_freq_$                   float64\n",
      "char_freq_#                   float64\n",
      "capital_run_length_average    float64\n",
      "capital_run_length_longest      int64\n",
      "capital_run_length_total        int64\n",
      "is_spam                          bool\n",
      "dtype: object\n"
     ]
    }
   ],
   "source": [
    "data_types = spambase_df.dtypes\n",
    "print(data_types)"
   ]
  },
  {
   "cell_type": "markdown",
   "id": "a4f0bc22-f791-4137-b2fb-a562e8c53ecd",
   "metadata": {},
   "source": [
    "**Check and Displaying the count of missing values for each column**"
   ]
  },
  {
   "cell_type": "code",
   "execution_count": 7,
   "id": "715add38-7916-4c05-b81f-74faee145d39",
   "metadata": {},
   "outputs": [
    {
     "name": "stdout",
     "output_type": "stream",
     "text": [
      "word_freq_all            6\n",
      "word_freq_3d             2\n",
      "word_freq_over           1\n",
      "word_freq_internet      15\n",
      "word_freq_addresses      9\n",
      "word_freq_labs         250\n",
      "word_freq_direct         3\n",
      "word_freq_cs            14\n",
      "word_freq_meeting        1\n",
      "word_freq_table         40\n",
      "dtype: int64\n"
     ]
    }
   ],
   "source": [
    "missing_values = spambase_df.isnull().sum()\n",
    "missing_values_summary = missing_values[missing_values > 0]\n",
    "print(missing_values_summary)"
   ]
  },
  {
   "cell_type": "markdown",
   "id": "07120777-e539-4767-a14e-c765c488b135",
   "metadata": {},
   "source": [
    "**Characterisation of the data set**"
   ]
  },
  {
   "cell_type": "code",
   "execution_count": 8,
   "id": "f124c2b8-c0ec-4991-866c-267944099c6f",
   "metadata": {},
   "outputs": [
    {
     "name": "stdout",
     "output_type": "stream",
     "text": [
      "{'Size': (4601, 59)}\n"
     ]
    }
   ],
   "source": [
    "size = spambase_df.shape\n",
    "size = {'Size': size}\n",
    "print(size)"
   ]
  },
  {
   "cell_type": "markdown",
   "id": "ba6ae0b8-7856-440d-9128-61720759519d",
   "metadata": {},
   "source": [
    "**Number of attributes**"
   ]
  },
  {
   "cell_type": "code",
   "execution_count": 9,
   "id": "4ea540fc-d96a-4f49-bf8c-5dc5faf426fa",
   "metadata": {},
   "outputs": [
    {
     "name": "stdout",
     "output_type": "stream",
     "text": [
      "{'Number of Columns': 59}\n"
     ]
    }
   ],
   "source": [
    "num_columns = spambase_df.shape[1]\n",
    "num_columns = {'Number of Columns': num_columns}\n",
    "print(num_columns)"
   ]
  },
  {
   "cell_type": "markdown",
   "id": "1e9a253e-72cd-489d-aed4-7b1aab10f8dc",
   "metadata": {},
   "source": [
    "**Has/does not have missing values**"
   ]
  },
  {
   "cell_type": "code",
   "execution_count": 10,
   "id": "7da9f418-9df8-4e8b-8edc-81fa374b6226",
   "metadata": {},
   "outputs": [
    {
     "name": "stdout",
     "output_type": "stream",
     "text": [
      "word_freq_all            6\n",
      "word_freq_3d             2\n",
      "word_freq_over           1\n",
      "word_freq_internet      15\n",
      "word_freq_addresses      9\n",
      "word_freq_labs         250\n",
      "word_freq_direct         3\n",
      "word_freq_cs            14\n",
      "word_freq_meeting        1\n",
      "word_freq_table         40\n",
      "dtype: int64\n"
     ]
    }
   ],
   "source": [
    "missing_values = spambase_df.isnull().sum()\n",
    "missing_values_summary = missing_values[missing_values > 0]\n",
    "print(missing_values_summary)"
   ]
  },
  {
   "cell_type": "markdown",
   "id": "dc08c77c-b8d5-4260-a69f-3adab21dfe3e",
   "metadata": {},
   "source": [
    "Number of observations"
   ]
  },
  {
   "cell_type": "code",
   "execution_count": 11,
   "id": "3fa405d9-90c3-45af-b434-37846737bcd5",
   "metadata": {},
   "outputs": [
    {
     "name": "stdout",
     "output_type": "stream",
     "text": [
      "Number of observations: 4601\n"
     ]
    }
   ],
   "source": [
    "num_observations = spambase_df.shape[0]\n",
    "print('Number of observations:', num_observations)"
   ]
  },
  {
   "cell_type": "markdown",
   "id": "afb2fe5e-f6e6-46de-9316-32e2b9c3d79e",
   "metadata": {},
   "source": [
    "What these Characterisation mean in the context of this data\n",
    "\n",
    "Dataset have 4601 obervations and 59 variables, Dataset is of considerable large size enough to carry transactional information.\n",
    "\r\n",
    "341 missing values in total among attributes indicate that some fields of the data points are blank, and hence this invariably\n",
    " might lead to great variation on analytics or predictions made over it\n",
    ".\r\n",
    "Before performing further analysis, it is very essential to handle the missing values as they may have otherwise affected our final result.\r\n"
   ]
  },
  {
   "cell_type": "markdown",
   "id": "9bc9047d-46ba-4cc8-a20f-1e41b82bef58",
   "metadata": {},
   "source": [
    "**Application of Data preparation/evaluation methods**\n",
    "\n",
    "**(Cleaning, renaming, etc)**\n"
   ]
  },
  {
   "cell_type": "markdown",
   "id": "9879f559-c5d6-47fc-86a0-87fd6f3aa56b",
   "metadata": {},
   "source": [
    "Replace missing values"
   ]
  },
  {
   "cell_type": "code",
   "execution_count": 12,
   "id": "2017447d-09b7-44d4-aff8-5117674f1f06",
   "metadata": {},
   "outputs": [],
   "source": [
    "spambase_df.fillna(0, inplace=True)"
   ]
  },
  {
   "cell_type": "markdown",
   "id": "ad1176ed-922c-42ff-bdff-fd7426b7fef7",
   "metadata": {},
   "source": [
    "**EDA visualizations**"
   ]
  },
  {
   "cell_type": "markdown",
   "id": "dae5fa1c-5b55-41b3-b3cf-173f93faa075",
   "metadata": {},
   "source": [
    "**Data Preparation**\n",
    "\n",
    "**Data filter: Separate spam messages from non-spam messages. (Foundation, 2024)**"
   ]
  },
  {
   "cell_type": "code",
   "execution_count": 13,
   "id": "d46c787f-097c-432c-a9c4-b8afc73a4ed6",
   "metadata": {},
   "outputs": [],
   "source": [
    "spam_count = spambase_df[spambase_df['is_spam'] == True]['word_freq_free'].sum()\n",
    "non_spam_count = spambase_df[spambase_df['is_spam'] == False]['word_freq_free'].sum()"
   ]
  },
  {
   "cell_type": "markdown",
   "id": "d17374ac-b12d-4423-92d2-c7b5c6319b48",
   "metadata": {},
   "source": [
    "**Counting Frequencies: Calculating How Often “FREE” Appears in Spam Messages**"
   ]
  },
  {
   "cell_type": "code",
   "execution_count": 14,
   "id": "048641fe-d1ed-407c-9abb-1f8585cbb447",
   "metadata": {},
   "outputs": [],
   "source": [
    "labels = ['Spam', 'Non-Spam']\n",
    "counts = [spam_count, non_spam_count]"
   ]
  },
  {
   "cell_type": "markdown",
   "id": "00c402f1-1b33-498d-b69c-5f5e5dc45ed5",
   "metadata": {},
   "source": [
    "**Visualizations**\n",
    "\n",
    "**Frequency of the Word \"FREE\" in Spam vs. Non-Spam Messages**"
   ]
  },
  {
   "cell_type": "code",
   "execution_count": 15,
   "id": "0b621264-090f-423e-954c-ebc153bbd5e7",
   "metadata": {},
   "outputs": [
    {
     "data": {
      "image/png": "[encoded data removed]",
      "text/plain": [
       "<Figure size 400x300 with 1 Axes>"
      ]
     },
     "metadata": {},
     "output_type": "display_data"
    }
   ],
   "source": [
    "plt.figure(figsize=(4, 3))\n",
    "plt.bar(labels, counts, color=['red', 'green'])\n",
    "plt.title('Frequency of the Word \"FREE\" in Spam vs. Non-Spam Messages')\n",
    "plt.ylabel('Frequency')\n",
    "plt.xticks(rotation=0)\n",
    "plt.tight_layout()\n",
    "plt.show()"
   ]
  },
  {
   "cell_type": "markdown",
   "id": "faacc265-4f8d-42dc-a853-cc28efb747ed",
   "metadata": {},
   "source": [
    "**Rationale**\n",
    "\n",
    "**This visualization allows us to directly compare how often \"FREE\" appears in spam messages versus non-spam messages.** \n",
    "\n",
    "**It provides information on whether this word is a common indicator of spam.**"
   ]
  },
  {
   "cell_type": "code",
   "execution_count": 16,
   "id": "ecab426a-0622-4689-9a08-ad8a40932def",
   "metadata": {},
   "outputs": [],
   "source": [
    "total_messages = len(spambase_df)\n",
    "free_in_spam = spambase_df[spambase_df['is_spam'] == True]['word_freq_free'].apply(lambda x: x > 0).sum()\n",
    "free_in_non_spam = spambase_df[spambase_df['is_spam'] == False]['word_freq_free'].apply(lambda x: x > 0).sum()"
   ]
  },
  {
   "cell_type": "markdown",
   "id": "e0040f9e-ec8e-4bda-8233-45759582a6a1",
   "metadata": {},
   "source": [
    "**% of Messages Containing the Word \"FREE\"**"
   ]
  },
  {
   "cell_type": "code",
   "execution_count": 17,
   "id": "f6b61b26-2b13-429e-8b1e-1ef0b14706a1",
   "metadata": {},
   "outputs": [],
   "source": [
    "percentage = [(free_in_spam / total_messages) * 100, (free_in_non_spam / total_messages) * 100]"
   ]
  },
  {
   "cell_type": "code",
   "execution_count": 18,
   "id": "0e047362-8e50-4b80-a886-1f90ed773198",
   "metadata": {},
   "outputs": [
    {
     "data": {
      "image/png": "[encoded data removed]",
      "text/plain": [
       "<Figure size 400x300 with 1 Axes>"
      ]
     },
     "metadata": {},
     "output_type": "display_data"
    }
   ],
   "source": [
    "plt.figure(figsize=(4, 3))\n",
    "plt.pie(percentage, labels=['FREE in Spam', 'FREE in Non-Spam'], autopct='%1.1f%%', startangle=90)\n",
    "plt.title('% of Messages Containing the Word \"FREE\"')\n",
    "plt.axis('equal')  # Equal aspect ratio ensures the pie chart is circular\n",
    "plt.tight_layout()\n",
    "plt.show()"
   ]
  },
  {
   "cell_type": "markdown",
   "id": "d01eb65e-5716-4e73-b630-81037d6e9efd",
   "metadata": {},
   "source": [
    "**Justification**"
   ]
  },
  {
   "cell_type": "markdown",
   "id": "665c1023-9e0d-4ae1-81a0-284fa3f7c5bf",
   "metadata": {},
   "source": [
    "This graph provides information about the frequency distribution of the word \"FREE\" in spam messages.\n",
    "\n",
    "*It shows the trend, helping us understand what percentage frequency the word \"FREE\" appears in spam messages.*"
   ]
  },
  {
   "cell_type": "markdown",
   "id": "f735b333-117c-463d-a9ad-f568a8cdcf8b",
   "metadata": {},
   "source": [
    "**Using PCA to establish the minimum number of features required to retain 99.5% variation in data**"
   ]
  },
  {
   "cell_type": "code",
   "execution_count": 19,
   "id": "ea6f4f7c-521c-4a0b-b7af-b2846c016aff",
   "metadata": {},
   "outputs": [],
   "source": [
    "spambase_df = spambase_df.apply(pd.to_numeric, errors='coerce')\n",
    "spambase_df.dropna(inplace=True)"
   ]
  },
  {
   "cell_type": "markdown",
   "id": "9dd91526-8aa3-4d7e-9a1f-207a6c6713c8",
   "metadata": {},
   "source": [
    "**Displaying the data types to identify potential non-numeric columns**"
   ]
  },
  {
   "cell_type": "markdown",
   "id": "6309d126-79ac-48ed-9fcb-8536f47e7700",
   "metadata": {},
   "source": [
    "print(spambase_df.info())"
   ]
  },
  {
   "cell_type": "markdown",
   "id": "1ad29e5d-e08b-4276-99e8-b8327e3c668a",
   "metadata": {},
   "source": [
    "**Explanation**\n",
    "\n",
    "Loading the Data and Cleaning\n",
    "\n",
    "*With this, I first load the dataset & do some cleaning by replacing no numeric values as well as dropping missing entries.*"
   ]
  },
  {
   "cell_type": "code",
   "execution_count": 20,
   "id": "90e41f51-ef96-4099-9fda-bcebe7bf4973",
   "metadata": {},
   "outputs": [],
   "source": [
    "spambase_df = pd.read_csv('spambase.csv')"
   ]
  },
  {
   "cell_type": "markdown",
   "id": "6d906e19-bb15-42ac-be8b-41452bcf5e3c",
   "metadata": {},
   "source": [
    "**Data cleaning: Handle non-numeric values**\n",
    "\n",
    "Replace '???' or any non-numeric strings with Not Number"
   ]
  },
  {
   "cell_type": "code",
   "execution_count": 21,
   "id": "46024d4c-f400-475e-9c94-07d770e79ae8",
   "metadata": {},
   "outputs": [],
   "source": [
    "spambase_df.replace(['???', 'none', ''], np.nan, inplace=True)\n",
    "spambase_df = spambase_df.apply(pd.to_numeric, errors='coerce')"
   ]
  },
  {
   "cell_type": "markdown",
   "id": "06bbf3be-b308-4ca4-9413-22dd1932436f",
   "metadata": {},
   "source": [
    "**Drop rows with Not a Number values**"
   ]
  },
  {
   "cell_type": "code",
   "execution_count": 22,
   "id": "a31e7e45-f462-46dc-b1ea-75de070fbc14",
   "metadata": {},
   "outputs": [],
   "source": [
    "spambase_df.dropna(inplace=True)"
   ]
  },
  {
   "cell_type": "markdown",
   "id": "1864a95d-104c-4c88-b69b-3c8e04c487ac",
   "metadata": {},
   "source": [
    "**Standardization**\n",
    "\n",
    "Scaling the features to get a better PCA performance"
   ]
  },
  {
   "cell_type": "code",
   "execution_count": 23,
   "id": "f71c3fdc-508c-41eb-9f2c-b4e961ea8c2c",
   "metadata": {},
   "outputs": [],
   "source": [
    "X = spambase_df.drop('is_spam', axis=1)\n",
    "y = spambase_df['is_spam']\n",
    "scaler = StandardScaler()\n",
    "X_scaled = scaler.fit_transform(X)"
   ]
  },
  {
   "cell_type": "markdown",
   "id": "343d5827-d3ee-407e-a707-9e66fe5aa197",
   "metadata": {},
   "source": [
    "Fitting the PCA to the data in X and..."
   ]
  },
  {
   "cell_type": "code",
   "execution_count": 24,
   "id": "cc786b18-331f-4280-a4e8-cd348d41129b",
   "metadata": {},
   "outputs": [
    {
     "data": {
      "text/html": [
       "<style>#sk-container-id-1 {\n",
       "  /* Definition of color scheme common for light and dark mode */\n",
       "  --sklearn-color-text: black;\n",
       "  --sklearn-color-line: gray;\n",
       "  /* Definition of color scheme for unfitted estimators */\n",
       "  --sklearn-color-unfitted-level-0: #fff5e6;\n",
       "  --sklearn-color-unfitted-level-1: #f6e4d2;\n",
       "  --sklearn-color-unfitted-level-2: #ffe0b3;\n",
       "  --sklearn-color-unfitted-level-3: chocolate;\n",
       "  /* Definition of color scheme for fitted estimators */\n",
       "  --sklearn-color-fitted-level-0: #f0f8ff;\n",
       "  --sklearn-color-fitted-level-1: #d4ebff;\n",
       "  --sklearn-color-fitted-level-2: #b3dbfd;\n",
       "  --sklearn-color-fitted-level-3: cornflowerblue;\n",
       "\n",
       "  /* Specific color for light theme */\n",
       "  --sklearn-color-text-on-default-background: var(--sg-text-color, var(--theme-code-foreground, var(--jp-content-font-color1, black)));\n",
       "  --sklearn-color-background: var(--sg-background-color, var(--theme-background, var(--jp-layout-color0, white)));\n",
       "  --sklearn-color-border-box: var(--sg-text-color, var(--theme-code-foreground, var(--jp-content-font-color1, black)));\n",
       "  --sklearn-color-icon: #696969;\n",
       "\n",
       "  @media (prefers-color-scheme: dark) {\n",
       "    /* Redefinition of color scheme for dark theme */\n",
       "    --sklearn-color-text-on-default-background: var(--sg-text-color, var(--theme-code-foreground, var(--jp-content-font-color1, white)));\n",
       "    --sklearn-color-background: var(--sg-background-color, var(--theme-background, var(--jp-layout-color0, #111)));\n",
       "    --sklearn-color-border-box: var(--sg-text-color, var(--theme-code-foreground, var(--jp-content-font-color1, white)));\n",
       "    --sklearn-color-icon: #878787;\n",
       "  }\n",
       "}\n",
       "\n",
       "#sk-container-id-1 {\n",
       "  color: var(--sklearn-color-text);\n",
       "}\n",
       "\n",
       "#sk-container-id-1 pre {\n",
       "  padding: 0;\n",
       "}\n",
       "\n",
       "#sk-container-id-1 input.sk-hidden--visually {\n",
       "  border: 0;\n",
       "  clip: rect(1px 1px 1px 1px);\n",
       "  clip: rect(1px, 1px, 1px, 1px);\n",
       "  height: 1px;\n",
       "  margin: -1px;\n",
       "  overflow: hidden;\n",
       "  padding: 0;\n",
       "  position: absolute;\n",
       "  width: 1px;\n",
       "}\n",
       "\n",
       "#sk-container-id-1 div.sk-dashed-wrapped {\n",
       "  border: 1px dashed var(--sklearn-color-line);\n",
       "  margin: 0 0.4em 0.5em 0.4em;\n",
       "  box-sizing: border-box;\n",
       "  padding-bottom: 0.4em;\n",
       "  background-color: var(--sklearn-color-background);\n",
       "}\n",
       "\n",
       "#sk-container-id-1 div.sk-container {\n",
       "  /* jupyter's `normalize.less` sets `[hidden] { display: none; }`\n",
       "     but bootstrap.min.css set `[hidden] { display: none !important; }`\n",
       "     so we also need the `!important` here to be able to override the\n",
       "     default hidden behavior on the sphinx rendered scikit-learn.org.\n",
       "     See: https://github.com/scikit-learn/scikit-learn/issues/21755 */\n",
       "  display: inline-block !important;\n",
       "  position: relative;\n",
       "}\n",
       "\n",
       "#sk-container-id-1 div.sk-text-repr-fallback {\n",
       "  display: none;\n",
       "}\n",
       "\n",
       "div.sk-parallel-item,\n",
       "div.sk-serial,\n",
       "div.sk-item {\n",
       "  /* draw centered vertical line to link estimators */\n",
       "  background-image: linear-gradient(var(--sklearn-color-text-on-default-background), var(--sklearn-color-text-on-default-background));\n",
       "  background-size: 2px 100%;\n",
       "  background-repeat: no-repeat;\n",
       "  background-position: center center;\n",
       "}\n",
       "\n",
       "/* Parallel-specific style estimator block */\n",
       "\n",
       "#sk-container-id-1 div.sk-parallel-item::after {\n",
       "  content: \"\";\n",
       "  width: 100%;\n",
       "  border-bottom: 2px solid var(--sklearn-color-text-on-default-background);\n",
       "  flex-grow: 1;\n",
       "}\n",
       "\n",
       "#sk-container-id-1 div.sk-parallel {\n",
       "  display: flex;\n",
       "  align-items: stretch;\n",
       "  justify-content: center;\n",
       "  background-color: var(--sklearn-color-background);\n",
       "  position: relative;\n",
       "}\n",
       "\n",
       "#sk-container-id-1 div.sk-parallel-item {\n",
       "  display: flex;\n",
       "  flex-direction: column;\n",
       "}\n",
       "\n",
       "#sk-container-id-1 div.sk-parallel-item:first-child::after {\n",
       "  align-self: flex-end;\n",
       "  width: 50%;\n",
       "}\n",
       "\n",
       "#sk-container-id-1 div.sk-parallel-item:last-child::after {\n",
       "  align-self: flex-start;\n",
       "  width: 50%;\n",
       "}\n",
       "\n",
       "#sk-container-id-1 div.sk-parallel-item:only-child::after {\n",
       "  width: 0;\n",
       "}\n",
       "\n",
       "/* Serial-specific style estimator block */\n",
       "\n",
       "#sk-container-id-1 div.sk-serial {\n",
       "  display: flex;\n",
       "  flex-direction: column;\n",
       "  align-items: center;\n",
       "  background-color: var(--sklearn-color-background);\n",
       "  padding-right: 1em;\n",
       "  padding-left: 1em;\n",
       "}\n",
       "\n",
       "\n",
       "/* Toggleable style: style used for estimator/Pipeline/ColumnTransformer box that is\n",
       "clickable and can be expanded/collapsed.\n",
       "- Pipeline and ColumnTransformer use this feature and define the default style\n",
       "- Estimators will overwrite some part of the style using the `sk-estimator` class\n",
       "*/\n",
       "\n",
       "/* Pipeline and ColumnTransformer style (default) */\n",
       "\n",
       "#sk-container-id-1 div.sk-toggleable {\n",
       "  /* Default theme specific background. It is overwritten whether we have a\n",
       "  specific estimator or a Pipeline/ColumnTransformer */\n",
       "  background-color: var(--sklearn-color-background);\n",
       "}\n",
       "\n",
       "/* Toggleable label */\n",
       "#sk-container-id-1 label.sk-toggleable__label {\n",
       "  cursor: pointer;\n",
       "  display: block;\n",
       "  width: 100%;\n",
       "  margin-bottom: 0;\n",
       "  padding: 0.5em;\n",
       "  box-sizing: border-box;\n",
       "  text-align: center;\n",
       "}\n",
       "\n",
       "#sk-container-id-1 label.sk-toggleable__label-arrow:before {\n",
       "  /* Arrow on the left of the label */\n",
       "  content: \"▸\";\n",
       "  float: left;\n",
       "  margin-right: 0.25em;\n",
       "  color: var(--sklearn-color-icon);\n",
       "}\n",
       "\n",
       "#sk-container-id-1 label.sk-toggleable__label-arrow:hover:before {\n",
       "  color: var(--sklearn-color-text);\n",
       "}\n",
       "\n",
       "/* Toggleable content - dropdown */\n",
       "\n",
       "#sk-container-id-1 div.sk-toggleable__content {\n",
       "  max-height: 0;\n",
       "  max-width: 0;\n",
       "  overflow: hidden;\n",
       "  text-align: left;\n",
       "  /* unfitted */\n",
       "  background-color: var(--sklearn-color-unfitted-level-0);\n",
       "}\n",
       "\n",
       "#sk-container-id-1 div.sk-toggleable__content.fitted {\n",
       "  /* fitted */\n",
       "  background-color: var(--sklearn-color-fitted-level-0);\n",
       "}\n",
       "\n",
       "#sk-container-id-1 div.sk-toggleable__content pre {\n",
       "  margin: 0.2em;\n",
       "  border-radius: 0.25em;\n",
       "  color: var(--sklearn-color-text);\n",
       "  /* unfitted */\n",
       "  background-color: var(--sklearn-color-unfitted-level-0);\n",
       "}\n",
       "\n",
       "#sk-container-id-1 div.sk-toggleable__content.fitted pre {\n",
       "  /* unfitted */\n",
       "  background-color: var(--sklearn-color-fitted-level-0);\n",
       "}\n",
       "\n",
       "#sk-container-id-1 input.sk-toggleable__control:checked~div.sk-toggleable__content {\n",
       "  /* Expand drop-down */\n",
       "  max-height: 200px;\n",
       "  max-width: 100%;\n",
       "  overflow: auto;\n",
       "}\n",
       "\n",
       "#sk-container-id-1 input.sk-toggleable__control:checked~label.sk-toggleable__label-arrow:before {\n",
       "  content: \"▾\";\n",
       "}\n",
       "\n",
       "/* Pipeline/ColumnTransformer-specific style */\n",
       "\n",
       "#sk-container-id-1 div.sk-label input.sk-toggleable__control:checked~label.sk-toggleable__label {\n",
       "  color: var(--sklearn-color-text);\n",
       "  background-color: var(--sklearn-color-unfitted-level-2);\n",
       "}\n",
       "\n",
       "#sk-container-id-1 div.sk-label.fitted input.sk-toggleable__control:checked~label.sk-toggleable__label {\n",
       "  background-color: var(--sklearn-color-fitted-level-2);\n",
       "}\n",
       "\n",
       "/* Estimator-specific style */\n",
       "\n",
       "/* Colorize estimator box */\n",
       "#sk-container-id-1 div.sk-estimator input.sk-toggleable__control:checked~label.sk-toggleable__label {\n",
       "  /* unfitted */\n",
       "  background-color: var(--sklearn-color-unfitted-level-2);\n",
       "}\n",
       "\n",
       "#sk-container-id-1 div.sk-estimator.fitted input.sk-toggleable__control:checked~label.sk-toggleable__label {\n",
       "  /* fitted */\n",
       "  background-color: var(--sklearn-color-fitted-level-2);\n",
       "}\n",
       "\n",
       "#sk-container-id-1 div.sk-label label.sk-toggleable__label,\n",
       "#sk-container-id-1 div.sk-label label {\n",
       "  /* The background is the default theme color */\n",
       "  color: var(--sklearn-color-text-on-default-background);\n",
       "}\n",
       "\n",
       "/* On hover, darken the color of the background */\n",
       "#sk-container-id-1 div.sk-label:hover label.sk-toggleable__label {\n",
       "  color: var(--sklearn-color-text);\n",
       "  background-color: var(--sklearn-color-unfitted-level-2);\n",
       "}\n",
       "\n",
       "/* Label box, darken color on hover, fitted */\n",
       "#sk-container-id-1 div.sk-label.fitted:hover label.sk-toggleable__label.fitted {\n",
       "  color: var(--sklearn-color-text);\n",
       "  background-color: var(--sklearn-color-fitted-level-2);\n",
       "}\n",
       "\n",
       "/* Estimator label */\n",
       "\n",
       "#sk-container-id-1 div.sk-label label {\n",
       "  font-family: monospace;\n",
       "  font-weight: bold;\n",
       "  display: inline-block;\n",
       "  line-height: 1.2em;\n",
       "}\n",
       "\n",
       "#sk-container-id-1 div.sk-label-container {\n",
       "  text-align: center;\n",
       "}\n",
       "\n",
       "/* Estimator-specific */\n",
       "#sk-container-id-1 div.sk-estimator {\n",
       "  font-family: monospace;\n",
       "  border: 1px dotted var(--sklearn-color-border-box);\n",
       "  border-radius: 0.25em;\n",
       "  box-sizing: border-box;\n",
       "  margin-bottom: 0.5em;\n",
       "  /* unfitted */\n",
       "  background-color: var(--sklearn-color-unfitted-level-0);\n",
       "}\n",
       "\n",
       "#sk-container-id-1 div.sk-estimator.fitted {\n",
       "  /* fitted */\n",
       "  background-color: var(--sklearn-color-fitted-level-0);\n",
       "}\n",
       "\n",
       "/* on hover */\n",
       "#sk-container-id-1 div.sk-estimator:hover {\n",
       "  /* unfitted */\n",
       "  background-color: var(--sklearn-color-unfitted-level-2);\n",
       "}\n",
       "\n",
       "#sk-container-id-1 div.sk-estimator.fitted:hover {\n",
       "  /* fitted */\n",
       "  background-color: var(--sklearn-color-fitted-level-2);\n",
       "}\n",
       "\n",
       "/* Specification for estimator info (e.g. \"i\" and \"?\") */\n",
       "\n",
       "/* Common style for \"i\" and \"?\" */\n",
       "\n",
       ".sk-estimator-doc-link,\n",
       "a:link.sk-estimator-doc-link,\n",
       "a:visited.sk-estimator-doc-link {\n",
       "  float: right;\n",
       "  font-size: smaller;\n",
       "  line-height: 1em;\n",
       "  font-family: monospace;\n",
       "  background-color: var(--sklearn-color-background);\n",
       "  border-radius: 1em;\n",
       "  height: 1em;\n",
       "  width: 1em;\n",
       "  text-decoration: none !important;\n",
       "  margin-left: 1ex;\n",
       "  /* unfitted */\n",
       "  border: var(--sklearn-color-unfitted-level-1) 1pt solid;\n",
       "  color: var(--sklearn-color-unfitted-level-1);\n",
       "}\n",
       "\n",
       ".sk-estimator-doc-link.fitted,\n",
       "a:link.sk-estimator-doc-link.fitted,\n",
       "a:visited.sk-estimator-doc-link.fitted {\n",
       "  /* fitted */\n",
       "  border: var(--sklearn-color-fitted-level-1) 1pt solid;\n",
       "  color: var(--sklearn-color-fitted-level-1);\n",
       "}\n",
       "\n",
       "/* On hover */\n",
       "div.sk-estimator:hover .sk-estimator-doc-link:hover,\n",
       ".sk-estimator-doc-link:hover,\n",
       "div.sk-label-container:hover .sk-estimator-doc-link:hover,\n",
       ".sk-estimator-doc-link:hover {\n",
       "  /* unfitted */\n",
       "  background-color: var(--sklearn-color-unfitted-level-3);\n",
       "  color: var(--sklearn-color-background);\n",
       "  text-decoration: none;\n",
       "}\n",
       "\n",
       "div.sk-estimator.fitted:hover .sk-estimator-doc-link.fitted:hover,\n",
       ".sk-estimator-doc-link.fitted:hover,\n",
       "div.sk-label-container:hover .sk-estimator-doc-link.fitted:hover,\n",
       ".sk-estimator-doc-link.fitted:hover {\n",
       "  /* fitted */\n",
       "  background-color: var(--sklearn-color-fitted-level-3);\n",
       "  color: var(--sklearn-color-background);\n",
       "  text-decoration: none;\n",
       "}\n",
       "\n",
       "/* Span, style for the box shown on hovering the info icon */\n",
       ".sk-estimator-doc-link span {\n",
       "  display: none;\n",
       "  z-index: 9999;\n",
       "  position: relative;\n",
       "  font-weight: normal;\n",
       "  right: .2ex;\n",
       "  padding: .5ex;\n",
       "  margin: .5ex;\n",
       "  width: min-content;\n",
       "  min-width: 20ex;\n",
       "  max-width: 50ex;\n",
       "  color: var(--sklearn-color-text);\n",
       "  box-shadow: 2pt 2pt 4pt #999;\n",
       "  /* unfitted */\n",
       "  background: var(--sklearn-color-unfitted-level-0);\n",
       "  border: .5pt solid var(--sklearn-color-unfitted-level-3);\n",
       "}\n",
       "\n",
       ".sk-estimator-doc-link.fitted span {\n",
       "  /* fitted */\n",
       "  background: var(--sklearn-color-fitted-level-0);\n",
       "  border: var(--sklearn-color-fitted-level-3);\n",
       "}\n",
       "\n",
       ".sk-estimator-doc-link:hover span {\n",
       "  display: block;\n",
       "}\n",
       "\n",
       "/* \"?\"-specific style due to the `<a>` HTML tag */\n",
       "\n",
       "#sk-container-id-1 a.estimator_doc_link {\n",
       "  float: right;\n",
       "  font-size: 1rem;\n",
       "  line-height: 1em;\n",
       "  font-family: monospace;\n",
       "  background-color: var(--sklearn-color-background);\n",
       "  border-radius: 1rem;\n",
       "  height: 1rem;\n",
       "  width: 1rem;\n",
       "  text-decoration: none;\n",
       "  /* unfitted */\n",
       "  color: var(--sklearn-color-unfitted-level-1);\n",
       "  border: var(--sklearn-color-unfitted-level-1) 1pt solid;\n",
       "}\n",
       "\n",
       "#sk-container-id-1 a.estimator_doc_link.fitted {\n",
       "  /* fitted */\n",
       "  border: var(--sklearn-color-fitted-level-1) 1pt solid;\n",
       "  color: var(--sklearn-color-fitted-level-1);\n",
       "}\n",
       "\n",
       "/* On hover */\n",
       "#sk-container-id-1 a.estimator_doc_link:hover {\n",
       "  /* unfitted */\n",
       "  background-color: var(--sklearn-color-unfitted-level-3);\n",
       "  color: var(--sklearn-color-background);\n",
       "  text-decoration: none;\n",
       "}\n",
       "\n",
       "#sk-container-id-1 a.estimator_doc_link.fitted:hover {\n",
       "  /* fitted */\n",
       "  background-color: var(--sklearn-color-fitted-level-3);\n",
       "}\n",
       "</style><div id=\"sk-container-id-1\" class=\"sk-top-container\"><div class=\"sk-text-repr-fallback\"><pre>PCA()</pre><b>In a Jupyter environment, please rerun this cell to show the HTML representation or trust the notebook. <br />On GitHub, the HTML representation is unable to render, please try loading this page with nbviewer.org.</b></div><div class=\"sk-container\" hidden><div class=\"sk-item\"><div class=\"sk-estimator fitted sk-toggleable\"><input class=\"sk-toggleable__control sk-hidden--visually\" id=\"sk-estimator-id-1\" type=\"checkbox\" checked><label for=\"sk-estimator-id-1\" class=\"sk-toggleable__label fitted sk-toggleable__label-arrow fitted\">&nbsp;&nbsp;PCA<a class=\"sk-estimator-doc-link fitted\" rel=\"noreferrer\" target=\"_blank\" href=\"https://scikit-learn.org/1.4/modules/generated/sklearn.decomposition.PCA.html\">?<span>Documentation for PCA</span></a><span class=\"sk-estimator-doc-link fitted\">i<span>Fitted</span></span></label><div class=\"sk-toggleable__content fitted\"><pre>PCA()</pre></div> </div></div></div></div>"
      ],
      "text/plain": [
       "PCA()"
      ]
     },
     "execution_count": 24,
     "metadata": {},
     "output_type": "execute_result"
    }
   ],
   "source": [
    "pca = PCA()\n",
    "pca.fit(X_scaled)"
   ]
  },
  {
   "cell_type": "markdown",
   "id": "b91f3e3d-206c-43e2-9223-ef1baa198dea",
   "metadata": {},
   "source": [
    "Calculating the explained variance"
   ]
  },
  {
   "cell_type": "code",
   "execution_count": 25,
   "id": "a156e9e1-7ab8-49c0-b6dd-48410a7a38a3",
   "metadata": {},
   "outputs": [],
   "source": [
    "explained_variance = pca.explained_variance_ratio_\n",
    "cumulative_variance = np.cumsum(explained_variance)"
   ]
  },
  {
   "cell_type": "markdown",
   "id": "5e1f9827-316c-4497-9650-df8db4930fc2",
   "metadata": {},
   "source": [
    "**Plot of cumulative variance explained to determine the number of components needed**"
   ]
  },
  {
   "cell_type": "code",
   "execution_count": 26,
   "id": "73f5bd9b-5597-4f05-afb2-8785ed88dbc4",
   "metadata": {},
   "outputs": [
    {
     "data": {
      "image/png": "[encoded data removed]",
      "text/plain": [
       "<Figure size 700x400 with 1 Axes>"
      ]
     },
     "metadata": {},
     "output_type": "display_data"
    }
   ],
   "source": [
    "plt.figure(figsize=(7, 4))\n",
    "plt.plot(cumulative_variance, marker='o')\n",
    "plt.axhline(y=0.995, color='r', linestyle='--')\n",
    "plt.title('Cumulative Explained Variance by PCA Components')\n",
    "plt.xlabel('Number of Components')\n",
    "plt.ylabel('Cumulative Explained Variance')\n",
    "plt.grid()\n",
    "plt.show()"
   ]
  },
  {
   "cell_type": "markdown",
   "id": "93d5ca66-2fda-49f4-81e2-762f91446850",
   "metadata": {},
   "source": [
    "Dimensionality Reduction: Dimensionality reduction is a technique that compresses the data, under a certain number of components\n",
    "to a fraction of its original size, which is necessary for the preservation of 99.5 % variance, leading to the removal of such \n",
    "predictors that are highly correlated with the data set."
   ]
  },
  {
   "cell_type": "markdown",
   "id": "85937675-51bf-4a06-870f-18c549efefea",
   "metadata": {},
   "source": [
    "**Determine the number of components for 99.5% variance**"
   ]
  },
  {
   "cell_type": "code",
   "execution_count": 27,
   "id": "ba5f6adc-d543-4272-889a-61851fa8fb57",
   "metadata": {},
   "outputs": [
    {
     "name": "stdout",
     "output_type": "stream",
     "text": [
      "Minimum number of components to retain 99.5% variance: 56\n"
     ]
    }
   ],
   "source": [
    "n_components = np.argmax(cumulative_variance >= 0.995) + 1\n",
    "print(f'Minimum number of components to retain 99.5% variance: {n_components}')"
   ]
  },
  {
   "cell_type": "markdown",
   "id": "864bc49c-be4e-4533-839e-469c400953bd",
   "metadata": {},
   "source": [
    "**Reducing dimensionality**"
   ]
  },
  {
   "cell_type": "code",
   "execution_count": 28,
   "id": "78982878-fdf4-4213-a21b-6aacb8dba289",
   "metadata": {},
   "outputs": [],
   "source": [
    "pca = PCA(n_components=n_components)\n",
    "X_reduced = pca.fit_transform(X_scaled)"
   ]
  },
  {
   "cell_type": "markdown",
   "id": "5139d0e3-be65-451f-8f9c-39e3293d55b0",
   "metadata": {},
   "source": [
    "**Displaying reduced data shape**"
   ]
  },
  {
   "cell_type": "code",
   "execution_count": 29,
   "id": "78d4af62-eed7-4318-9529-33074c67e9ba",
   "metadata": {},
   "outputs": [
    {
     "name": "stdout",
     "output_type": "stream",
     "text": [
      "Reduced data shape: (4273, 56)\n"
     ]
    }
   ],
   "source": [
    "print(f'Reduced data shape: {X_reduced.shape}')"
   ]
  },
  {
   "cell_type": "markdown",
   "id": "5eed56e6-04e8-4f12-a602-48949652b6c8",
   "metadata": {},
   "source": [
    "The \"curse of dimensionality\" refers back to the demanding situations that stand up while coping with excessive-dimensional statistics. \n",
    "As the number of functions (or dimensions) will increase, the spatial quantity grows exponentially and facts factors come to be greater sparse. \n",
    "This sparsity can result in issues which includes overfitting (in which the version learns the noise as opposed to the underlying patterns) and problems in visualizing and deciphering the data.\n",
    "\n",
    "In the context of unsolicited mail evaluation, because of this if there are too many features, the version may also battle to generalize properly, \n",
    "that may cause terrible overall performance on unseen records. \n",
    "Reducing dimensionality therefore simplifies the information at the same time as preserving important information, thereby improving the accuracy and interpretability of the model."
   ]
  },
  {
   "cell_type": "markdown",
   "id": "721ddbb4-4096-4855-829d-e8100cea672a",
   "metadata": {},
   "source": [
    "**Only numeric columns are selected for PCA, as PCA requires numerical input.**"
   ]
  },
  {
   "cell_type": "markdown",
   "id": "e6de67d5-2949-4a96-a051-fe9c740ecd8a",
   "metadata": {},
   "source": [
    "Impute Missing Values with 0:"
   ]
  },
  {
   "cell_type": "code",
   "execution_count": 30,
   "id": "062dee44-ab12-4525-89e1-66ded1f8afa0",
   "metadata": {},
   "outputs": [
    {
     "name": "stdout",
     "output_type": "stream",
     "text": [
      "Series([], dtype: int64)\n"
     ]
    }
   ],
   "source": [
    "missing_values = spambase_df.isnull().sum()\n",
    "missing_values_summary = missing_values[missing_values > 0]\n",
    "print(missing_values_summary)"
   ]
  },
  {
   "cell_type": "markdown",
   "id": "ddd244f8-52a2-464e-b135-49ddb8a8eca8",
   "metadata": {},
   "source": [
    "**Perform PCA**\n",
    "\n",
    "PCA is done to reduce the data set to two important additives.\r\n",
    "\n",
    "Creating a DataFrame with Core Components"
   ]
  },
  {
   "cell_type": "code",
   "execution_count": 31,
   "id": "c5e35dd3-a6b0-4895-ad1c-11169a2be73a",
   "metadata": {},
   "outputs": [],
   "source": [
    "X = spambase_df.drop(columns=['is_spam'])\n",
    "y = spambase_df['is_spam']"
   ]
  },
  {
   "cell_type": "code",
   "execution_count": 32,
   "id": "5ccacd6d-730b-4ece-b7c6-4f3fda8edc52",
   "metadata": {},
   "outputs": [],
   "source": [
    "pca = PCA(n_components=2)\n",
    "X_reduced = pca.fit_transform(X)"
   ]
  },
  {
   "cell_type": "markdown",
   "id": "4cf918f9-0dc8-4561-877a-a157e1c48ef4",
   "metadata": {},
   "source": [
    "**A new DataFrame pca_df is created containing the 2 fundamental components**"
   ]
  },
  {
   "cell_type": "code",
   "execution_count": 33,
   "id": "4692b7a4-ac53-4ac5-a263-e3709c1a47a1",
   "metadata": {},
   "outputs": [],
   "source": [
    "reduced_df = pd.DataFrame(data=X_reduced, columns=['PC1', 'PC2'])"
   ]
  },
  {
   "cell_type": "markdown",
   "id": "f978d34f-3e67-4805-83cc-6e8437d62a8c",
   "metadata": {},
   "source": [
    "**The target variable is_spam is passed to the PCA DataFrame to color the graph**\n",
    "\n",
    "The target variable is_spam is delivered to the PCA DataFrame for coloring the plot"
   ]
  },
  {
   "cell_type": "code",
   "execution_count": 34,
   "id": "2f9dd00e-b3d9-46dc-9094-6c3b33f696aa",
   "metadata": {},
   "outputs": [],
   "source": [
    "reduced_df['is_spam'] = y"
   ]
  },
  {
   "cell_type": "markdown",
   "id": "9ab9b335-4cb6-4d63-81c2-ea22b2cbca5c",
   "metadata": {},
   "source": [
    "**A scatterplot is created using Plotly to visualize the main components, colored via the is_spam variable**\n",
    "\n",
    "This visualization allows us to understand how information points are distributed within the reduced dimensional, \n",
    "space and whether spam mail and unsolicited emails are separable based on available components."
   ]
  },
  {
   "cell_type": "code",
   "execution_count": 35,
   "id": "419f367b-eefc-4081-b9ea-cc55eafa7672",
   "metadata": {},
   "outputs": [
    {
     "data": {
      "image/png": "[encoded data removed]",
      "text/plain": [
       "<Figure size 800x500 with 1 Axes>"
      ]
     },
     "metadata": {},
     "output_type": "display_data"
    }
   ],
   "source": [
    "plt.figure(figsize=(8, 5))\n",
    "plt.scatter(reduced_df[reduced_df['is_spam'] == 1]['PC1'], \n",
    "reduced_df[reduced_df['is_spam'] == 1]['PC2'],color='red', label='Spam')\n",
    "plt.scatter(reduced_df[reduced_df['is_spam'] == 0]['PC1'],\n",
    "reduced_df[reduced_df['is_spam'] == 0]['PC2'],\n",
    "color='blue', label='Not Spam')\n",
    "plt.title('PCA of Spambase Dataset')\n",
    "plt.xlabel('Component 1')\n",
    "plt.ylabel('Component 2')\n",
    "plt.legend()\n",
    "plt.grid()\n",
    "plt.show()"
   ]
  }
 ],
 "metadata": {
  "kernelspec": {
   "display_name": "Python 3 (ipykernel)",
   "language": "python",
   "name": "python3"
  },
  "language_info": {
   "codemirror_mode": {
    "name": "ipython",
    "version": 3
   },
   "file_extension": ".py",
   "mimetype": "text/x-python",
   "name": "python",
   "nbconvert_exporter": "python",
   "pygments_lexer": "ipython3",
   "version": "3.12.4"
  }
 },
 "nbformat": 4,
 "nbformat_minor": 5
}
